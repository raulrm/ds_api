{
 "cells": [
  {
   "cell_type": "code",
   "execution_count": 1,
   "metadata": {},
   "outputs": [
    {
     "name": "stderr",
     "output_type": "stream",
     "text": [
      "/home/administrador/anaconda3/envs/ds_api/lib/python3.10/site-packages/xgboost/compat.py:36: FutureWarning: pandas.Int64Index is deprecated and will be removed from pandas in a future version. Use pandas.Index with the appropriate dtype instead.\n",
      "  from pandas import MultiIndex, Int64Index\n"
     ]
    }
   ],
   "source": [
    "# Manipulacion de datos\n",
    "import numpy as np\n",
    "import pandas as pd\n",
    "import sqlite3\n",
    "\n",
    "# Gráficos (???!)\n",
    "import matplotlib.pyplot as plt\n",
    "plt.rcParams[\"figure.figsize\"] = (12, 8)\n",
    "import seaborn as sns\n",
    "sns.set(style=\"darkgrid\", font_scale=1.5)\n",
    "\n",
    "# Ciencia de datos, machine learning\n",
    "from sklearn.preprocessing import StandardScaler\n",
    "from sklearn.model_selection import train_test_split\n",
    "from sklearn.metrics import confusion_matrix, ConfusionMatrixDisplay\n",
    "from sklearn import tree\n",
    "\n",
    "# Modelos\n",
    "from sklearn.naive_bayes import GaussianNB\n",
    "from sklearn.linear_model import LogisticRegression\n",
    "from sklearn.ensemble import RandomForestClassifier\n",
    "from sklearn.ensemble import AdaBoostClassifier\n",
    "from xgboost.sklearn import XGBClassifier\n",
    "from keras.models import Sequential\n",
    "from keras.layers import Dense\n",
    "\n",
    "# Leer/Guardar modelos\n",
    "import joblib"
   ]
  },
  {
   "cell_type": "code",
   "execution_count": 2,
   "metadata": {},
   "outputs": [],
   "source": [
    "# Cargamos la BBDD en un dataframe pandas\n",
    "con = sqlite3.connect(\"../data/ds_api.sqlite\")\n",
    "# Forzamos que todos los valores sean del tipo entero\n",
    "data = pd.read_sql_query(\"SELECT * from desercion\", con, coerce_float=True, dtype=np.int_)\n",
    "#data.dtypes\n"
   ]
  },
  {
   "cell_type": "code",
   "execution_count": 3,
   "metadata": {},
   "outputs": [],
   "source": [
    "# Separo en features y target\n",
    "X = data.iloc[:,0:-1]\n",
    "y = data.iloc[:,-1:]\n"
   ]
  },
  {
   "cell_type": "code",
   "execution_count": 4,
   "metadata": {},
   "outputs": [],
   "source": [
    "# Escalamos los datos\n",
    "scaler = StandardScaler()\n",
    "scaler.fit(X)\n",
    "data_escalada = scaler.transform(X)\n",
    "\n",
    "X = pd.DataFrame(data_escalada, index=X.index, columns=X.columns)\n",
    "#X.sample(15)"
   ]
  },
  {
   "cell_type": "code",
   "execution_count": 5,
   "metadata": {},
   "outputs": [
    {
     "data": {
      "text/plain": [
       "['../data/media.dat']"
      ]
     },
     "execution_count": 5,
     "metadata": {},
     "output_type": "execute_result"
    }
   ],
   "source": [
    "# Calculamos y guardamos standar deviation y mean\n",
    "desviacion = data.std()\n",
    "promedio = data.mean()\n",
    "\n",
    "filename = '../data/desvio.dat'\n",
    "joblib.dump(desviacion, filename)\n",
    "\n",
    "filename = '../data/media.dat'\n",
    "joblib.dump(promedio, filename)\n"
   ]
  },
  {
   "cell_type": "code",
   "execution_count": 6,
   "metadata": {},
   "outputs": [],
   "source": [
    "# Separamos en train/test\n",
    "X_train, X_test, y_train, y_test = train_test_split(X, y, stratify=y, test_size=0.3, random_state=50000)"
   ]
  },
  {
   "cell_type": "code",
   "execution_count": 21,
   "metadata": {},
   "outputs": [
    {
     "name": "stderr",
     "output_type": "stream",
     "text": [
      "/home/administrador/anaconda3/envs/ds_api/lib/python3.10/site-packages/sklearn/utils/validation.py:993: DataConversionWarning: A column-vector y was passed when a 1d array was expected. Please change the shape of y to (n_samples, ), for example using ravel().\n",
      "  y = column_or_1d(y, warn=True)\n"
     ]
    }
   ],
   "source": [
    "# Probamos con regresion logistica\n",
    "lg = LogisticRegression()\n",
    "modelo_lg = lg.fit(X_train, y_train)\n",
    "y_pred_test = modelo_lg.predict(X_test)\n",
    "\n",
    "# matriz de confusión\n",
    "conf_lg = confusion_matrix(y_test,y_pred_test)"
   ]
  },
  {
   "cell_type": "code",
   "execution_count": 22,
   "metadata": {},
   "outputs": [
    {
     "data": {
      "text/plain": [
       "['../models/modelo_lg.mtx']"
      ]
     },
     "execution_count": 22,
     "metadata": {},
     "output_type": "execute_result"
    }
   ],
   "source": [
    "# guardamos el modelo y la matriz de confusion\n",
    "filename = '../models/modelo_lg.mod'\n",
    "joblib.dump(modelo_lg, filename)\n",
    "\n",
    "filename = '../models/modelo_lg.mtx'\n",
    "joblib.dump(conf_lg, filename)"
   ]
  },
  {
   "cell_type": "code",
   "execution_count": 9,
   "metadata": {},
   "outputs": [
    {
     "name": "stderr",
     "output_type": "stream",
     "text": [
      "/home/administrador/anaconda3/envs/ds_api/lib/python3.10/site-packages/sklearn/utils/validation.py:993: DataConversionWarning: A column-vector y was passed when a 1d array was expected. Please change the shape of y to (n_samples, ), for example using ravel().\n",
      "  y = column_or_1d(y, warn=True)\n"
     ]
    }
   ],
   "source": [
    "# Probamos con naive bayes\n",
    "nb = GaussianNB()\n",
    "modelo_nb = nb.fit(X_train, y_train)\n",
    "y_pred_test = modelo_nb.predict(X_test)\n",
    "\n",
    "# matriz de confusión\n",
    "conf_nb = confusion_matrix(y_test,y_pred_test)"
   ]
  },
  {
   "cell_type": "code",
   "execution_count": 10,
   "metadata": {},
   "outputs": [
    {
     "data": {
      "text/plain": [
       "['../models/modelo_nb.mtx']"
      ]
     },
     "execution_count": 10,
     "metadata": {},
     "output_type": "execute_result"
    }
   ],
   "source": [
    "# guardamos el modelo y la matriz de confusion\n",
    "filename = '../models/modelo_nb.mod'\n",
    "joblib.dump(modelo_nb, filename)\n",
    "\n",
    "filename = '../models/modelo_nb.mtx'\n",
    "joblib.dump(conf_nb, filename)"
   ]
  },
  {
   "cell_type": "code",
   "execution_count": 18,
   "metadata": {},
   "outputs": [
    {
     "name": "stderr",
     "output_type": "stream",
     "text": [
      "/home/administrador/anaconda3/envs/ds_api/lib/python3.10/site-packages/sklearn/utils/validation.py:993: DataConversionWarning: A column-vector y was passed when a 1d array was expected. Please change the shape of y to (n_samples, ), for example using ravel().\n",
      "  y = column_or_1d(y, warn=True)\n"
     ]
    }
   ],
   "source": [
    "# Probamos con Ada Boost\n",
    "# n_estimators surgen despues de probar con varios numeros \n",
    "ab = AdaBoostClassifier(n_estimators=45, random_state=50000)\n",
    "modelo_ab = ab.fit(X_train, y_train)\n",
    "y_pred_test = modelo_ab.predict(X_test)\n",
    "\n",
    "# matriz de confusión\n",
    "conf_ab = confusion_matrix(y_test,y_pred_test)"
   ]
  },
  {
   "cell_type": "code",
   "execution_count": 20,
   "metadata": {},
   "outputs": [
    {
     "data": {
      "text/plain": [
       "['../models/modelo_ab.mtx']"
      ]
     },
     "execution_count": 20,
     "metadata": {},
     "output_type": "execute_result"
    }
   ],
   "source": [
    "# guardamos el modelo y la matriz de confusion\n",
    "filename = '../models/modelo_ab.mod'\n",
    "joblib.dump(modelo_ab, filename)\n",
    "\n",
    "filename = '../models/modelo_ab.mtx'\n",
    "joblib.dump(conf_ab, filename)"
   ]
  },
  {
   "cell_type": "code",
   "execution_count": 28,
   "metadata": {},
   "outputs": [
    {
     "name": "stderr",
     "output_type": "stream",
     "text": [
      "/home/administrador/anaconda3/envs/ds_api/lib/python3.10/site-packages/xgboost/data.py:262: FutureWarning: pandas.Int64Index is deprecated and will be removed from pandas in a future version. Use pandas.Index with the appropriate dtype instead.\n",
      "  elif isinstance(data.columns, (pd.Int64Index, pd.RangeIndex)):\n"
     ]
    },
    {
     "name": "stdout",
     "output_type": "stream",
     "text": [
      "[13:08:33] WARNING: /home/conda/feedstock_root/build_artifacts/xgboost-split_1645117766796/work/src/learner.cc:1115: Starting in XGBoost 1.3.0, the default evaluation metric used with the objective 'binary:logistic' was changed from 'error' to 'logloss'. Explicitly set eval_metric if you'd like to restore the old behavior.\n"
     ]
    }
   ],
   "source": [
    "# Probamos con XGBoost\n",
    "# codigo y parametros descaradamente robado de Juan Domingo Gonzalez\n",
    "xg = XGBClassifier(n_estimators=1000, learning_rate=0.02, n_jobs=4, use_label_encoder=False)\n",
    "modelo_xg = xg.fit(X_train, y_train, early_stopping_rounds=5, eval_set=[(X_train, y_train)], verbose=False)\n",
    "y_pred_test = modelo_xg.predict(X_test)\n",
    "\n",
    "# matriz de confusión\n",
    "conf_xg = confusion_matrix(y_test,y_pred_test)"
   ]
  },
  {
   "cell_type": "code",
   "execution_count": 24,
   "metadata": {},
   "outputs": [
    {
     "data": {
      "text/plain": [
       "['../models/modelo_xg.mtx']"
      ]
     },
     "execution_count": 24,
     "metadata": {},
     "output_type": "execute_result"
    }
   ],
   "source": [
    "# guardamos el modelo y la matriz de confusion\n",
    "filename = '../models/modelo_xg.mod'\n",
    "joblib.dump(modelo_xg, filename)\n",
    "\n",
    "filename = '../models/modelo_xg.mtx'\n",
    "joblib.dump(conf_xg, filename)"
   ]
  },
  {
   "cell_type": "code",
   "execution_count": 15,
   "metadata": {},
   "outputs": [
    {
     "name": "stderr",
     "output_type": "stream",
     "text": [
      "/tmp/ipykernel_2784110/2912922465.py:3: DataConversionWarning: A column-vector y was passed when a 1d array was expected. Please change the shape of y to (n_samples,), for example using ravel().\n",
      "  modelo_rf = rf.fit(X_train, y_train)\n"
     ]
    }
   ],
   "source": [
    "# Probamos con Random forest\n",
    "rf = RandomForestClassifier(n_estimators=100)\n",
    "modelo_rf = rf.fit(X_train, y_train)\n",
    "y_pred_test = modelo_rf.predict(X_test)\n",
    "\n",
    "# matriz de confusión\n",
    "conf_rf = confusion_matrix(y_test,y_pred_test)"
   ]
  },
  {
   "cell_type": "code",
   "execution_count": 17,
   "metadata": {},
   "outputs": [
    {
     "data": {
      "text/plain": [
       "['../models/modelo_rf.mtx']"
      ]
     },
     "execution_count": 17,
     "metadata": {},
     "output_type": "execute_result"
    }
   ],
   "source": [
    "# guardamos el modelo y la matriz de confusion\n",
    "filename = '../models/modelo_rf.mod'\n",
    "joblib.dump(modelo_rf, filename)\n",
    "\n",
    "filename = '../models/modelo_rf.mtx'\n",
    "joblib.dump(conf_rf, filename)"
   ]
  },
  {
   "cell_type": "code",
   "execution_count": 25,
   "metadata": {},
   "outputs": [
    {
     "data": {
      "text/plain": [
       "array([[16,  7],\n",
       "       [ 7, 15]])"
      ]
     },
     "execution_count": 25,
     "metadata": {},
     "output_type": "execute_result"
    }
   ],
   "source": [
    "conf_xg"
   ]
  }
 ],
 "metadata": {
  "interpreter": {
   "hash": "7ba39d1d6988ad7b3d12d4297ab04dc5e381322634003d536685ebec2639010a"
  },
  "kernelspec": {
   "display_name": "Python 3.10.0 ('ds_api')",
   "language": "python",
   "name": "python3"
  },
  "language_info": {
   "codemirror_mode": {
    "name": "ipython",
    "version": 3
   },
   "file_extension": ".py",
   "mimetype": "text/x-python",
   "name": "python",
   "nbconvert_exporter": "python",
   "pygments_lexer": "ipython3",
   "version": "3.10.2"
  },
  "orig_nbformat": 4
 },
 "nbformat": 4,
 "nbformat_minor": 2
}
